{
 "cells": [
  {
   "cell_type": "code",
   "execution_count": 1,
   "id": "361925a5",
   "metadata": {
    "_cell_guid": "b1076dfc-b9ad-4769-8c92-a6c4dae69d19",
    "_uuid": "8f2839f25d086af736a60e9eeb907d3b93b6e0e5",
    "execution": {
     "iopub.execute_input": "2025-03-31T07:52:37.507663Z",
     "iopub.status.busy": "2025-03-31T07:52:37.507319Z",
     "iopub.status.idle": "2025-03-31T07:52:38.533071Z",
     "shell.execute_reply": "2025-03-31T07:52:38.532041Z"
    },
    "papermill": {
     "duration": 1.033746,
     "end_time": "2025-03-31T07:52:38.534995",
     "exception": false,
     "start_time": "2025-03-31T07:52:37.501249",
     "status": "completed"
    },
    "tags": []
   },
   "outputs": [],
   "source": [
    "# This Python 3 environment comes with many helpful analytics libraries installed\n",
    "# It is defined by the kaggle/python Docker image: https://github.com/kaggle/docker-python\n",
    "# For example, here's several helpful packages to load\n",
    "\n",
    "import numpy as np # linear algebra\n",
    "import pandas as pd # data processing, CSV file I/O (e.g. pd.read_csv)\n",
    "\n",
    "# Input data files are available in the read-only \"../input/\" directory\n",
    "# For example, running this (by clicking run or pressing Shift+Enter) will list all files under the input directory\n",
    "\n",
    "import os\n",
    "for dirname, _, filenames in os.walk('/kaggle/input'):\n",
    "    for filename in filenames:\n",
    "        print(os.path.join(dirname, filename))\n",
    "\n",
    "# You can write up to 20GB to the current directory (/kaggle/working/) that gets preserved as output when you create a version using \"Save & Run All\" \n",
    "# You can also write temporary files to /kaggle/temp/, but they won't be saved outside of the current session"
   ]
  },
  {
   "cell_type": "code",
   "execution_count": 2,
   "id": "04ad619c",
   "metadata": {
    "execution": {
     "iopub.execute_input": "2025-03-31T07:52:38.547886Z",
     "iopub.status.busy": "2025-03-31T07:52:38.547299Z",
     "iopub.status.idle": "2025-03-31T07:52:40.206580Z",
     "shell.execute_reply": "2025-03-31T07:52:40.205492Z"
    },
    "papermill": {
     "duration": 1.668501,
     "end_time": "2025-03-31T07:52:40.208613",
     "exception": false,
     "start_time": "2025-03-31T07:52:38.540112",
     "status": "completed"
    },
    "tags": []
   },
   "outputs": [],
   "source": [
    "import pandas as pd\n",
    "import numpy as np\n",
    "from sklearn.preprocessing import StandardScaler"
   ]
  },
  {
   "cell_type": "code",
   "execution_count": 3,
   "id": "42cddd8a",
   "metadata": {
    "execution": {
     "iopub.execute_input": "2025-03-31T07:52:40.218607Z",
     "iopub.status.busy": "2025-03-31T07:52:40.218127Z",
     "iopub.status.idle": "2025-03-31T07:52:40.228184Z",
     "shell.execute_reply": "2025-03-31T07:52:40.227151Z"
    },
    "papermill": {
     "duration": 0.017002,
     "end_time": "2025-03-31T07:52:40.230078",
     "exception": false,
     "start_time": "2025-03-31T07:52:40.213076",
     "status": "completed"
    },
    "tags": []
   },
   "outputs": [],
   "source": [
    "df = pd.DataFrame(np.array([[\t\n",
    "83,\n",
    "44,\n",
    "10,\n",
    "53,\n",
    "1], [43,\n",
    "76,\n",
    "87,\n",
    "84,\n",
    "19], [31,\n",
    "66,\n",
    "53,\n",
    "68,\n",
    "44], [79,\n",
    "28,\n",
    "60,\n",
    "1,\n",
    "62], [16,\n",
    "62,\n",
    "77,\n",
    "47,\n",
    "90], [5,\n",
    "68,\n",
    "45,\n",
    "72,\n",
    "10], [63,\n",
    "10,\n",
    "34,\n",
    "67,\n",
    "55], [66,\n",
    "11,\n",
    "76,\n",
    "78,\n",
    "85], [15,\n",
    "38,\n",
    "42,\n",
    "86,\n",
    "59], [81,\n",
    "10,\n",
    "32,\n",
    "27,\n",
    "1], [47,\n",
    "51,\n",
    "14,\n",
    "87,\n",
    "21], [57,\n",
    "41,\n",
    "77,\n",
    "35,\n",
    "56], [66,\n",
    "16,\n",
    "2,\n",
    "85,\n",
    "53], [88,\n",
    "53,\n",
    "4,\n",
    "74,\n",
    "34], [34,\n",
    "4,\n",
    "44,\n",
    "9,\n",
    "86], [30,\n",
    "17,\n",
    "47,\n",
    "9,\n",
    "18], [68,\n",
    "52,\n",
    "83,\n",
    "63,\n",
    "26], [81,\n",
    "89,\n",
    "18,\n",
    "12,\n",
    "37],[9,\n",
    "44,\n",
    "67,\n",
    "77,\n",
    "25]]), columns=list('ABCDE'))"
   ]
  },
  {
   "cell_type": "code",
   "execution_count": 4,
   "id": "1588f354",
   "metadata": {
    "execution": {
     "iopub.execute_input": "2025-03-31T07:52:40.239868Z",
     "iopub.status.busy": "2025-03-31T07:52:40.239508Z",
     "iopub.status.idle": "2025-03-31T07:52:40.259762Z",
     "shell.execute_reply": "2025-03-31T07:52:40.258525Z"
    },
    "papermill": {
     "duration": 0.027162,
     "end_time": "2025-03-31T07:52:40.261498",
     "exception": false,
     "start_time": "2025-03-31T07:52:40.234336",
     "status": "completed"
    },
    "tags": []
   },
   "outputs": [
    {
     "data": {
      "text/plain": [
       "<bound method NDFrame.head of      A   B   C   D   E\n",
       "0   83  44  10  53   1\n",
       "1   43  76  87  84  19\n",
       "2   31  66  53  68  44\n",
       "3   79  28  60   1  62\n",
       "4   16  62  77  47  90\n",
       "5    5  68  45  72  10\n",
       "6   63  10  34  67  55\n",
       "7   66  11  76  78  85\n",
       "8   15  38  42  86  59\n",
       "9   81  10  32  27   1\n",
       "10  47  51  14  87  21\n",
       "11  57  41  77  35  56\n",
       "12  66  16   2  85  53\n",
       "13  88  53   4  74  34\n",
       "14  34   4  44   9  86\n",
       "15  30  17  47   9  18\n",
       "16  68  52  83  63  26\n",
       "17  81  89  18  12  37\n",
       "18   9  44  67  77  25>"
      ]
     },
     "execution_count": 4,
     "metadata": {},
     "output_type": "execute_result"
    }
   ],
   "source": [
    "df.head"
   ]
  },
  {
   "cell_type": "code",
   "execution_count": 5,
   "id": "39ecd8cc",
   "metadata": {
    "execution": {
     "iopub.execute_input": "2025-03-31T07:52:40.271622Z",
     "iopub.status.busy": "2025-03-31T07:52:40.271304Z",
     "iopub.status.idle": "2025-03-31T07:52:40.279923Z",
     "shell.execute_reply": "2025-03-31T07:52:40.278668Z"
    },
    "papermill": {
     "duration": 0.016421,
     "end_time": "2025-03-31T07:52:40.282471",
     "exception": false,
     "start_time": "2025-03-31T07:52:40.266050",
     "status": "completed"
    },
    "tags": []
   },
   "outputs": [],
   "source": [
    "scaler = StandardScaler().fit(df.values)\n",
    "transformed_dataset = scaler.transform(df.values)\n",
    "transformed_df = pd.DataFrame(data=transformed_dataset, index=df.index)"
   ]
  },
  {
   "cell_type": "code",
   "execution_count": 6,
   "id": "0f149fbb",
   "metadata": {
    "execution": {
     "iopub.execute_input": "2025-03-31T07:52:40.293065Z",
     "iopub.status.busy": "2025-03-31T07:52:40.292612Z",
     "iopub.status.idle": "2025-03-31T07:52:40.297228Z",
     "shell.execute_reply": "2025-03-31T07:52:40.296155Z"
    },
    "papermill": {
     "duration": 0.012081,
     "end_time": "2025-03-31T07:52:40.298973",
     "exception": false,
     "start_time": "2025-03-31T07:52:40.286892",
     "status": "completed"
    },
    "tags": []
   },
   "outputs": [],
   "source": [
    "number_of_rows = df.values.shape[0]\n",
    "window_length = 7\n",
    "number_of_features = df.values.shape[1]"
   ]
  },
  {
   "cell_type": "code",
   "execution_count": 7,
   "id": "c6f3d61b",
   "metadata": {
    "execution": {
     "iopub.execute_input": "2025-03-31T07:52:40.309649Z",
     "iopub.status.busy": "2025-03-31T07:52:40.309309Z",
     "iopub.status.idle": "2025-03-31T07:52:40.318035Z",
     "shell.execute_reply": "2025-03-31T07:52:40.316966Z"
    },
    "papermill": {
     "duration": 0.016128,
     "end_time": "2025-03-31T07:52:40.319889",
     "exception": false,
     "start_time": "2025-03-31T07:52:40.303761",
     "status": "completed"
    },
    "tags": []
   },
   "outputs": [],
   "source": [
    "train = np.empty([number_of_rows-window_length, window_length, number_of_features], dtype=float)\n",
    "\n",
    "label = np.empty([number_of_rows-window_length, number_of_features], dtype=float)\n",
    "\n",
    "window_length = 7\n",
    "\n",
    "for i in range(0, number_of_rows-window_length):\n",
    "    train[i]=transformed_df.iloc[i:i+window_length, 0: number_of_features]\n",
    "    label[i]=transformed_df.iloc[i+window_length: i+window_length+1, 0: number_of_features]"
   ]
  },
  {
   "cell_type": "code",
   "execution_count": 8,
   "id": "200bf0de",
   "metadata": {
    "execution": {
     "iopub.execute_input": "2025-03-31T07:52:40.330320Z",
     "iopub.status.busy": "2025-03-31T07:52:40.329911Z",
     "iopub.status.idle": "2025-03-31T07:52:40.335677Z",
     "shell.execute_reply": "2025-03-31T07:52:40.334552Z"
    },
    "papermill": {
     "duration": 0.013159,
     "end_time": "2025-03-31T07:52:40.337478",
     "exception": false,
     "start_time": "2025-03-31T07:52:40.324319",
     "status": "completed"
    },
    "tags": []
   },
   "outputs": [
    {
     "data": {
      "text/plain": [
       "(12, 7, 5)"
      ]
     },
     "execution_count": 8,
     "metadata": {},
     "output_type": "execute_result"
    }
   ],
   "source": [
    "train.shape"
   ]
  },
  {
   "cell_type": "code",
   "execution_count": 9,
   "id": "5a70764f",
   "metadata": {
    "execution": {
     "iopub.execute_input": "2025-03-31T07:52:40.347715Z",
     "iopub.status.busy": "2025-03-31T07:52:40.347314Z",
     "iopub.status.idle": "2025-03-31T07:52:40.353230Z",
     "shell.execute_reply": "2025-03-31T07:52:40.352111Z"
    },
    "papermill": {
     "duration": 0.013152,
     "end_time": "2025-03-31T07:52:40.355235",
     "exception": false,
     "start_time": "2025-03-31T07:52:40.342083",
     "status": "completed"
    },
    "tags": []
   },
   "outputs": [
    {
     "data": {
      "text/plain": [
       "(12, 5)"
      ]
     },
     "execution_count": 9,
     "metadata": {},
     "output_type": "execute_result"
    }
   ],
   "source": [
    "label.shape"
   ]
  },
  {
   "cell_type": "code",
   "execution_count": 10,
   "id": "0674659e",
   "metadata": {
    "execution": {
     "iopub.execute_input": "2025-03-31T07:52:40.365683Z",
     "iopub.status.busy": "2025-03-31T07:52:40.365341Z",
     "iopub.status.idle": "2025-03-31T07:52:40.371820Z",
     "shell.execute_reply": "2025-03-31T07:52:40.370806Z"
    },
    "papermill": {
     "duration": 0.013682,
     "end_time": "2025-03-31T07:52:40.373610",
     "exception": false,
     "start_time": "2025-03-31T07:52:40.359928",
     "status": "completed"
    },
    "tags": []
   },
   "outputs": [
    {
     "data": {
      "text/plain": [
       "array([[ 1.21411641,  0.12098052, -1.33558198, -0.04895644, -1.48896828],\n",
       "       [-0.28625509,  1.43448332,  1.52945678,  1.0190193 , -0.82156703],\n",
       "       [-0.73636654,  1.02401369,  0.26437473,  0.46780601,  0.10537914],\n",
       "       [ 1.06407926, -0.53577088,  0.5248328 , -1.84039963,  0.77278039],\n",
       "       [-1.29900585,  0.85982584,  1.15737383, -0.25566143,  1.81096011],\n",
       "       [-1.71160802,  1.10610762, -0.03329163,  0.60560934, -1.15526766],\n",
       "       [ 0.46393066, -1.2746162 , -0.44258288,  0.43335518,  0.51323546]])"
      ]
     },
     "execution_count": 10,
     "metadata": {},
     "output_type": "execute_result"
    }
   ],
   "source": [
    "train[0]"
   ]
  },
  {
   "cell_type": "code",
   "execution_count": 11,
   "id": "e0b3260c",
   "metadata": {
    "execution": {
     "iopub.execute_input": "2025-03-31T07:52:40.384307Z",
     "iopub.status.busy": "2025-03-31T07:52:40.383920Z",
     "iopub.status.idle": "2025-03-31T07:52:40.390261Z",
     "shell.execute_reply": "2025-03-31T07:52:40.389064Z"
    },
    "papermill": {
     "duration": 0.013599,
     "end_time": "2025-03-31T07:52:40.392030",
     "exception": false,
     "start_time": "2025-03-31T07:52:40.378431",
     "status": "completed"
    },
    "tags": []
   },
   "outputs": [
    {
     "data": {
      "text/plain": [
       "array([[-0.28625509,  1.43448332,  1.52945678,  1.0190193 , -0.82156703],\n",
       "       [-0.73636654,  1.02401369,  0.26437473,  0.46780601,  0.10537914],\n",
       "       [ 1.06407926, -0.53577088,  0.5248328 , -1.84039963,  0.77278039],\n",
       "       [-1.29900585,  0.85982584,  1.15737383, -0.25566143,  1.81096011],\n",
       "       [-1.71160802,  1.10610762, -0.03329163,  0.60560934, -1.15526766],\n",
       "       [ 0.46393066, -1.2746162 , -0.44258288,  0.43335518,  0.51323546],\n",
       "       [ 0.57645852, -1.23356924,  1.12016553,  0.81231432,  1.62557088]])"
      ]
     },
     "execution_count": 11,
     "metadata": {},
     "output_type": "execute_result"
    }
   ],
   "source": [
    "train[1]"
   ]
  },
  {
   "cell_type": "code",
   "execution_count": 12,
   "id": "48ee5863",
   "metadata": {
    "execution": {
     "iopub.execute_input": "2025-03-31T07:52:40.402838Z",
     "iopub.status.busy": "2025-03-31T07:52:40.402448Z",
     "iopub.status.idle": "2025-03-31T07:52:40.408588Z",
     "shell.execute_reply": "2025-03-31T07:52:40.407531Z"
    },
    "papermill": {
     "duration": 0.013688,
     "end_time": "2025-03-31T07:52:40.410506",
     "exception": false,
     "start_time": "2025-03-31T07:52:40.396818",
     "status": "completed"
    },
    "tags": []
   },
   "outputs": [
    {
     "data": {
      "text/plain": [
       "array([ 0.57645852, -1.23356924,  1.12016553,  0.81231432,  1.62557088])"
      ]
     },
     "execution_count": 12,
     "metadata": {},
     "output_type": "execute_result"
    }
   ],
   "source": [
    "label[0]"
   ]
  },
  {
   "cell_type": "code",
   "execution_count": 13,
   "id": "d4be73d3",
   "metadata": {
    "execution": {
     "iopub.execute_input": "2025-03-31T07:52:40.421601Z",
     "iopub.status.busy": "2025-03-31T07:52:40.421226Z",
     "iopub.status.idle": "2025-03-31T07:52:40.427526Z",
     "shell.execute_reply": "2025-03-31T07:52:40.426468Z"
    },
    "papermill": {
     "duration": 0.01377,
     "end_time": "2025-03-31T07:52:40.429279",
     "exception": false,
     "start_time": "2025-03-31T07:52:40.415509",
     "status": "completed"
    },
    "tags": []
   },
   "outputs": [
    {
     "data": {
      "text/plain": [
       "array([-1.33651514, -0.12530125, -0.14491652,  1.08792096,  0.66154685])"
      ]
     },
     "execution_count": 13,
     "metadata": {},
     "output_type": "execute_result"
    }
   ],
   "source": [
    "label[1]"
   ]
  },
  {
   "cell_type": "code",
   "execution_count": 14,
   "id": "a2f3c753",
   "metadata": {
    "execution": {
     "iopub.execute_input": "2025-03-31T07:52:40.440540Z",
     "iopub.status.busy": "2025-03-31T07:52:40.440149Z",
     "iopub.status.idle": "2025-03-31T07:52:56.190448Z",
     "shell.execute_reply": "2025-03-31T07:52:56.189359Z"
    },
    "papermill": {
     "duration": 15.758119,
     "end_time": "2025-03-31T07:52:56.192429",
     "exception": false,
     "start_time": "2025-03-31T07:52:40.434310",
     "status": "completed"
    },
    "tags": []
   },
   "outputs": [],
   "source": [
    "from keras.models import Sequential\n",
    "from keras. layers import LSTM, Dense, Bidirectional, Dropout\n",
    "import numpy as np\n",
    "\n",
    "batch_size = 100"
   ]
  },
  {
   "cell_type": "code",
   "execution_count": 15,
   "id": "d32ce210",
   "metadata": {
    "execution": {
     "iopub.execute_input": "2025-03-31T07:52:56.204246Z",
     "iopub.status.busy": "2025-03-31T07:52:56.203560Z",
     "iopub.status.idle": "2025-03-31T07:52:56.334015Z",
     "shell.execute_reply": "2025-03-31T07:52:56.332895Z"
    },
    "papermill": {
     "duration": 0.138092,
     "end_time": "2025-03-31T07:52:56.335710",
     "exception": false,
     "start_time": "2025-03-31T07:52:56.197618",
     "status": "completed"
    },
    "tags": []
   },
   "outputs": [
    {
     "name": "stderr",
     "output_type": "stream",
     "text": [
      "/usr/local/lib/python3.10/dist-packages/keras/src/layers/rnn/rnn.py:204: UserWarning: Do not pass an `input_shape`/`input_dim` argument to a layer. When using Sequential models, prefer using an `Input(shape)` object as the first layer in the model instead.\n",
      "  super().__init__(**kwargs)\n"
     ]
    }
   ],
   "source": [
    "model = Sequential()\n",
    "model.add(Bidirectional(LSTM(240,\n",
    "                            input_shape=(window_length, number_of_features),\n",
    "                            return_sequences=True)))\n",
    "model.add(Dropout(0.2))\n",
    "model.add(Bidirectional(LSTM(240,\n",
    "                            input_shape=(window_length, number_of_features),\n",
    "                            return_sequences=True)))\n",
    "model.add(Dropout(0.2))\n",
    "model.add(Bidirectional(LSTM(240,\n",
    "                            input_shape=(window_length, number_of_features),\n",
    "                            return_sequences=True)))\n",
    "model = Sequential()\n",
    "model.add(Bidirectional(LSTM(240,\n",
    "                            input_shape=(window_length, number_of_features),\n",
    "                            return_sequences=False)))\n",
    "model.add(Dense(59))\n",
    "model.add(Dense(number_of_features))\n",
    "model.compile(loss='mse', optimizer='rmsprop', metrics=['accuracy'])"
   ]
  },
  {
   "cell_type": "code",
   "execution_count": 16,
   "id": "c9496e8f",
   "metadata": {
    "execution": {
     "iopub.execute_input": "2025-03-31T07:52:56.347417Z",
     "iopub.status.busy": "2025-03-31T07:52:56.346891Z",
     "iopub.status.idle": "2025-03-31T07:53:02.234836Z",
     "shell.execute_reply": "2025-03-31T07:53:02.233642Z"
    },
    "papermill": {
     "duration": 5.895954,
     "end_time": "2025-03-31T07:53:02.236752",
     "exception": false,
     "start_time": "2025-03-31T07:52:56.340798",
     "status": "completed"
    },
    "tags": []
   },
   "outputs": [
    {
     "name": "stdout",
     "output_type": "stream",
     "text": [
      "Epoch 1/50\n",
      "\u001b[1m1/1\u001b[0m \u001b[32m━━━━━━━━━━━━━━━━━━━━\u001b[0m\u001b[37m\u001b[0m \u001b[1m3s\u001b[0m 3s/step - accuracy: 0.2500 - loss: 1.0094\n",
      "Epoch 2/50\n",
      "\u001b[1m1/1\u001b[0m \u001b[32m━━━━━━━━━━━━━━━━━━━━\u001b[0m\u001b[37m\u001b[0m \u001b[1m0s\u001b[0m 40ms/step - accuracy: 0.2500 - loss: 0.8798\n",
      "Epoch 3/50\n",
      "\u001b[1m1/1\u001b[0m \u001b[32m━━━━━━━━━━━━━━━━━━━━\u001b[0m\u001b[37m\u001b[0m \u001b[1m0s\u001b[0m 41ms/step - accuracy: 0.3333 - loss: 0.8091\n",
      "Epoch 4/50\n",
      "\u001b[1m1/1\u001b[0m \u001b[32m━━━━━━━━━━━━━━━━━━━━\u001b[0m\u001b[37m\u001b[0m \u001b[1m0s\u001b[0m 41ms/step - accuracy: 0.4167 - loss: 0.7523\n",
      "Epoch 5/50\n",
      "\u001b[1m1/1\u001b[0m \u001b[32m━━━━━━━━━━━━━━━━━━━━\u001b[0m\u001b[37m\u001b[0m \u001b[1m0s\u001b[0m 40ms/step - accuracy: 0.4167 - loss: 0.7013\n",
      "Epoch 6/50\n",
      "\u001b[1m1/1\u001b[0m \u001b[32m━━━━━━━━━━━━━━━━━━━━\u001b[0m\u001b[37m\u001b[0m \u001b[1m0s\u001b[0m 40ms/step - accuracy: 0.5000 - loss: 0.6528\n",
      "Epoch 7/50\n",
      "\u001b[1m1/1\u001b[0m \u001b[32m━━━━━━━━━━━━━━━━━━━━\u001b[0m\u001b[37m\u001b[0m \u001b[1m0s\u001b[0m 41ms/step - accuracy: 0.5000 - loss: 0.6055\n",
      "Epoch 8/50\n",
      "\u001b[1m1/1\u001b[0m \u001b[32m━━━━━━━━━━━━━━━━━━━━\u001b[0m\u001b[37m\u001b[0m \u001b[1m0s\u001b[0m 39ms/step - accuracy: 0.5833 - loss: 0.5584\n",
      "Epoch 9/50\n",
      "\u001b[1m1/1\u001b[0m \u001b[32m━━━━━━━━━━━━━━━━━━━━\u001b[0m\u001b[37m\u001b[0m \u001b[1m0s\u001b[0m 40ms/step - accuracy: 0.5833 - loss: 0.5116\n",
      "Epoch 10/50\n",
      "\u001b[1m1/1\u001b[0m \u001b[32m━━━━━━━━━━━━━━━━━━━━\u001b[0m\u001b[37m\u001b[0m \u001b[1m0s\u001b[0m 39ms/step - accuracy: 0.5833 - loss: 0.4654\n",
      "Epoch 11/50\n",
      "\u001b[1m1/1\u001b[0m \u001b[32m━━━━━━━━━━━━━━━━━━━━\u001b[0m\u001b[37m\u001b[0m \u001b[1m0s\u001b[0m 38ms/step - accuracy: 0.6667 - loss: 0.4209\n",
      "Epoch 12/50\n",
      "\u001b[1m1/1\u001b[0m \u001b[32m━━━━━━━━━━━━━━━━━━━━\u001b[0m\u001b[37m\u001b[0m \u001b[1m0s\u001b[0m 263ms/step - accuracy: 0.6667 - loss: 0.3800\n",
      "Epoch 13/50\n",
      "\u001b[1m1/1\u001b[0m \u001b[32m━━━━━━━━━━━━━━━━━━━━\u001b[0m\u001b[37m\u001b[0m \u001b[1m0s\u001b[0m 39ms/step - accuracy: 0.7500 - loss: 0.3450\n",
      "Epoch 14/50\n",
      "\u001b[1m1/1\u001b[0m \u001b[32m━━━━━━━━━━━━━━━━━━━━\u001b[0m\u001b[37m\u001b[0m \u001b[1m0s\u001b[0m 40ms/step - accuracy: 0.7500 - loss: 0.3168\n",
      "Epoch 15/50\n",
      "\u001b[1m1/1\u001b[0m \u001b[32m━━━━━━━━━━━━━━━━━━━━\u001b[0m\u001b[37m\u001b[0m \u001b[1m0s\u001b[0m 41ms/step - accuracy: 0.7500 - loss: 0.2943\n",
      "Epoch 16/50\n",
      "\u001b[1m1/1\u001b[0m \u001b[32m━━━━━━━━━━━━━━━━━━━━\u001b[0m\u001b[37m\u001b[0m \u001b[1m0s\u001b[0m 39ms/step - accuracy: 0.7500 - loss: 0.2737\n",
      "Epoch 17/50\n",
      "\u001b[1m1/1\u001b[0m \u001b[32m━━━━━━━━━━━━━━━━━━━━\u001b[0m\u001b[37m\u001b[0m \u001b[1m0s\u001b[0m 41ms/step - accuracy: 0.6667 - loss: 0.2665\n",
      "Epoch 18/50\n",
      "\u001b[1m1/1\u001b[0m \u001b[32m━━━━━━━━━━━━━━━━━━━━\u001b[0m\u001b[37m\u001b[0m \u001b[1m0s\u001b[0m 38ms/step - accuracy: 0.7500 - loss: 0.2614\n",
      "Epoch 19/50\n",
      "\u001b[1m1/1\u001b[0m \u001b[32m━━━━━━━━━━━━━━━━━━━━\u001b[0m\u001b[37m\u001b[0m \u001b[1m0s\u001b[0m 39ms/step - accuracy: 0.7500 - loss: 0.2502\n",
      "Epoch 20/50\n",
      "\u001b[1m1/1\u001b[0m \u001b[32m━━━━━━━━━━━━━━━━━━━━\u001b[0m\u001b[37m\u001b[0m \u001b[1m0s\u001b[0m 38ms/step - accuracy: 0.8333 - loss: 0.2143\n",
      "Epoch 21/50\n",
      "\u001b[1m1/1\u001b[0m \u001b[32m━━━━━━━━━━━━━━━━━━━━\u001b[0m\u001b[37m\u001b[0m \u001b[1m0s\u001b[0m 43ms/step - accuracy: 0.7500 - loss: 0.1929\n",
      "Epoch 22/50\n",
      "\u001b[1m1/1\u001b[0m \u001b[32m━━━━━━━━━━━━━━━━━━━━\u001b[0m\u001b[37m\u001b[0m \u001b[1m0s\u001b[0m 47ms/step - accuracy: 0.8333 - loss: 0.1796\n",
      "Epoch 23/50\n",
      "\u001b[1m1/1\u001b[0m \u001b[32m━━━━━━━━━━━━━━━━━━━━\u001b[0m\u001b[37m\u001b[0m \u001b[1m0s\u001b[0m 44ms/step - accuracy: 0.6667 - loss: 0.1790\n",
      "Epoch 24/50\n",
      "\u001b[1m1/1\u001b[0m \u001b[32m━━━━━━━━━━━━━━━━━━━━\u001b[0m\u001b[37m\u001b[0m \u001b[1m0s\u001b[0m 39ms/step - accuracy: 0.9167 - loss: 0.1784\n",
      "Epoch 25/50\n",
      "\u001b[1m1/1\u001b[0m \u001b[32m━━━━━━━━━━━━━━━━━━━━\u001b[0m\u001b[37m\u001b[0m \u001b[1m0s\u001b[0m 41ms/step - accuracy: 0.5833 - loss: 0.1808\n",
      "Epoch 26/50\n",
      "\u001b[1m1/1\u001b[0m \u001b[32m━━━━━━━━━━━━━━━━━━━━\u001b[0m\u001b[37m\u001b[0m \u001b[1m0s\u001b[0m 42ms/step - accuracy: 0.9167 - loss: 0.1609\n",
      "Epoch 27/50\n",
      "\u001b[1m1/1\u001b[0m \u001b[32m━━━━━━━━━━━━━━━━━━━━\u001b[0m\u001b[37m\u001b[0m \u001b[1m0s\u001b[0m 40ms/step - accuracy: 0.7500 - loss: 0.1460\n",
      "Epoch 28/50\n",
      "\u001b[1m1/1\u001b[0m \u001b[32m━━━━━━━━━━━━━━━━━━━━\u001b[0m\u001b[37m\u001b[0m \u001b[1m0s\u001b[0m 45ms/step - accuracy: 0.9167 - loss: 0.1301\n",
      "Epoch 29/50\n",
      "\u001b[1m1/1\u001b[0m \u001b[32m━━━━━━━━━━━━━━━━━━━━\u001b[0m\u001b[37m\u001b[0m \u001b[1m0s\u001b[0m 40ms/step - accuracy: 0.7500 - loss: 0.1212\n",
      "Epoch 30/50\n",
      "\u001b[1m1/1\u001b[0m \u001b[32m━━━━━━━━━━━━━━━━━━━━\u001b[0m\u001b[37m\u001b[0m \u001b[1m0s\u001b[0m 39ms/step - accuracy: 0.9167 - loss: 0.1163\n",
      "Epoch 31/50\n",
      "\u001b[1m1/1\u001b[0m \u001b[32m━━━━━━━━━━━━━━━━━━━━\u001b[0m\u001b[37m\u001b[0m \u001b[1m0s\u001b[0m 39ms/step - accuracy: 0.8333 - loss: 0.1159\n",
      "Epoch 32/50\n",
      "\u001b[1m1/1\u001b[0m \u001b[32m━━━━━━━━━━━━━━━━━━━━\u001b[0m\u001b[37m\u001b[0m \u001b[1m0s\u001b[0m 42ms/step - accuracy: 0.9167 - loss: 0.1204\n",
      "Epoch 33/50\n",
      "\u001b[1m1/1\u001b[0m \u001b[32m━━━━━━━━━━━━━━━━━━━━\u001b[0m\u001b[37m\u001b[0m \u001b[1m0s\u001b[0m 40ms/step - accuracy: 0.8333 - loss: 0.1205\n",
      "Epoch 34/50\n",
      "\u001b[1m1/1\u001b[0m \u001b[32m━━━━━━━━━━━━━━━━━━━━\u001b[0m\u001b[37m\u001b[0m \u001b[1m0s\u001b[0m 41ms/step - accuracy: 0.9167 - loss: 0.1215\n",
      "Epoch 35/50\n",
      "\u001b[1m1/1\u001b[0m \u001b[32m━━━━━━━━━━━━━━━━━━━━\u001b[0m\u001b[37m\u001b[0m \u001b[1m0s\u001b[0m 41ms/step - accuracy: 1.0000 - loss: 0.1070\n",
      "Epoch 36/50\n",
      "\u001b[1m1/1\u001b[0m \u001b[32m━━━━━━━━━━━━━━━━━━━━\u001b[0m\u001b[37m\u001b[0m \u001b[1m0s\u001b[0m 41ms/step - accuracy: 0.8333 - loss: 0.1018\n",
      "Epoch 37/50\n",
      "\u001b[1m1/1\u001b[0m \u001b[32m━━━━━━━━━━━━━━━━━━━━\u001b[0m\u001b[37m\u001b[0m \u001b[1m0s\u001b[0m 43ms/step - accuracy: 1.0000 - loss: 0.0910\n",
      "Epoch 38/50\n",
      "\u001b[1m1/1\u001b[0m \u001b[32m━━━━━━━━━━━━━━━━━━━━\u001b[0m\u001b[37m\u001b[0m \u001b[1m0s\u001b[0m 40ms/step - accuracy: 0.8333 - loss: 0.0893\n",
      "Epoch 39/50\n",
      "\u001b[1m1/1\u001b[0m \u001b[32m━━━━━━━━━━━━━━━━━━━━\u001b[0m\u001b[37m\u001b[0m \u001b[1m0s\u001b[0m 40ms/step - accuracy: 1.0000 - loss: 0.0837\n",
      "Epoch 40/50\n",
      "\u001b[1m1/1\u001b[0m \u001b[32m━━━━━━━━━━━━━━━━━━━━\u001b[0m\u001b[37m\u001b[0m \u001b[1m0s\u001b[0m 50ms/step - accuracy: 0.8333 - loss: 0.0842\n",
      "Epoch 41/50\n",
      "\u001b[1m1/1\u001b[0m \u001b[32m━━━━━━━━━━━━━━━━━━━━\u001b[0m\u001b[37m\u001b[0m \u001b[1m0s\u001b[0m 55ms/step - accuracy: 1.0000 - loss: 0.0786\n",
      "Epoch 42/50\n",
      "\u001b[1m1/1\u001b[0m \u001b[32m━━━━━━━━━━━━━━━━━━━━\u001b[0m\u001b[37m\u001b[0m \u001b[1m0s\u001b[0m 40ms/step - accuracy: 0.8333 - loss: 0.0778\n",
      "Epoch 43/50\n",
      "\u001b[1m1/1\u001b[0m \u001b[32m━━━━━━━━━━━━━━━━━━━━\u001b[0m\u001b[37m\u001b[0m \u001b[1m0s\u001b[0m 39ms/step - accuracy: 1.0000 - loss: 0.0711\n",
      "Epoch 44/50\n",
      "\u001b[1m1/1\u001b[0m \u001b[32m━━━━━━━━━━━━━━━━━━━━\u001b[0m\u001b[37m\u001b[0m \u001b[1m0s\u001b[0m 40ms/step - accuracy: 0.9167 - loss: 0.0690\n",
      "Epoch 45/50\n",
      "\u001b[1m1/1\u001b[0m \u001b[32m━━━━━━━━━━━━━━━━━━━━\u001b[0m\u001b[37m\u001b[0m \u001b[1m0s\u001b[0m 42ms/step - accuracy: 1.0000 - loss: 0.0636\n",
      "Epoch 46/50\n",
      "\u001b[1m1/1\u001b[0m \u001b[32m━━━━━━━━━━━━━━━━━━━━\u001b[0m\u001b[37m\u001b[0m \u001b[1m0s\u001b[0m 40ms/step - accuracy: 0.9167 - loss: 0.0620\n",
      "Epoch 47/50\n",
      "\u001b[1m1/1\u001b[0m \u001b[32m━━━━━━━━━━━━━━━━━━━━\u001b[0m\u001b[37m\u001b[0m \u001b[1m0s\u001b[0m 40ms/step - accuracy: 1.0000 - loss: 0.0587\n",
      "Epoch 48/50\n",
      "\u001b[1m1/1\u001b[0m \u001b[32m━━━━━━━━━━━━━━━━━━━━\u001b[0m\u001b[37m\u001b[0m \u001b[1m0s\u001b[0m 42ms/step - accuracy: 0.9167 - loss: 0.0583\n",
      "Epoch 49/50\n",
      "\u001b[1m1/1\u001b[0m \u001b[32m━━━━━━━━━━━━━━━━━━━━\u001b[0m\u001b[37m\u001b[0m \u001b[1m0s\u001b[0m 41ms/step - accuracy: 1.0000 - loss: 0.0568\n",
      "Epoch 50/50\n",
      "\u001b[1m1/1\u001b[0m \u001b[32m━━━━━━━━━━━━━━━━━━━━\u001b[0m\u001b[37m\u001b[0m \u001b[1m0s\u001b[0m 42ms/step - accuracy: 0.9167 - loss: 0.0574\n"
     ]
    },
    {
     "data": {
      "text/plain": [
       "<keras.src.callbacks.history.History at 0x795962d91600>"
      ]
     },
     "execution_count": 16,
     "metadata": {},
     "output_type": "execute_result"
    }
   ],
   "source": [
    "model.fit(train, label,\n",
    "         batch_size=100, epochs=50)"
   ]
  },
  {
   "cell_type": "code",
   "execution_count": 17,
   "id": "d366e865",
   "metadata": {
    "execution": {
     "iopub.execute_input": "2025-03-31T07:53:02.268847Z",
     "iopub.status.busy": "2025-03-31T07:53:02.268465Z",
     "iopub.status.idle": "2025-03-31T07:53:02.274321Z",
     "shell.execute_reply": "2025-03-31T07:53:02.273175Z"
    },
    "papermill": {
     "duration": 0.024319,
     "end_time": "2025-03-31T07:53:02.276229",
     "exception": false,
     "start_time": "2025-03-31T07:53:02.251910",
     "status": "completed"
    },
    "tags": []
   },
   "outputs": [],
   "source": [
    "to_predict=np.array([[66,\n",
    "16,\n",
    "2,\n",
    "85,\n",
    "53], [88,\n",
    "53,\n",
    "4,\n",
    "74,\n",
    "34], [34,\n",
    "4,\n",
    "44,\n",
    "9,\n",
    "86], [30,\n",
    "17,\n",
    "47,\n",
    "9,\n",
    "18], [68,\n",
    "52,\n",
    "83,\n",
    "63,\n",
    "26], [81,\n",
    "89,\n",
    "18,\n",
    "12,\n",
    "37],[9,\n",
    "44,\n",
    "67,\n",
    "77,\n",
    "25]])\n",
    "scaled_to_predict = scaler.transform(to_predict)\n"
   ]
  },
  {
   "cell_type": "code",
   "execution_count": 18,
   "id": "f4ddcf75",
   "metadata": {
    "execution": {
     "iopub.execute_input": "2025-03-31T07:53:02.305115Z",
     "iopub.status.busy": "2025-03-31T07:53:02.304714Z",
     "iopub.status.idle": "2025-03-31T07:53:02.675505Z",
     "shell.execute_reply": "2025-03-31T07:53:02.674136Z"
    },
    "papermill": {
     "duration": 0.387144,
     "end_time": "2025-03-31T07:53:02.677309",
     "exception": false,
     "start_time": "2025-03-31T07:53:02.290165",
     "status": "completed"
    },
    "tags": []
   },
   "outputs": [
    {
     "name": "stdout",
     "output_type": "stream",
     "text": [
      "\u001b[1m1/1\u001b[0m \u001b[32m━━━━━━━━━━━━━━━━━━━━\u001b[0m\u001b[37m\u001b[0m \u001b[1m0s\u001b[0m 309ms/step\n",
      "[109  51  53  31  31]\n"
     ]
    }
   ],
   "source": [
    "scaled_predicted_output_1 = model.predict(np.array([scaled_to_predict]))\n",
    "print(scaler.inverse_transform(scaled_predicted_output_1).astype(int)[0])"
   ]
  }
 ],
 "metadata": {
  "kaggle": {
   "accelerator": "none",
   "dataSources": [],
   "dockerImageVersionId": 30918,
   "isGpuEnabled": false,
   "isInternetEnabled": false,
   "language": "python",
   "sourceType": "notebook"
  },
  "kernelspec": {
   "display_name": "Python 3",
   "language": "python",
   "name": "python3"
  },
  "language_info": {
   "codemirror_mode": {
    "name": "ipython",
    "version": 3
   },
   "file_extension": ".py",
   "mimetype": "text/x-python",
   "name": "python",
   "nbconvert_exporter": "python",
   "pygments_lexer": "ipython3",
   "version": "3.10.12"
  },
  "papermill": {
   "default_parameters": {},
   "duration": 30.665595,
   "end_time": "2025-03-31T07:53:05.191367",
   "environment_variables": {},
   "exception": null,
   "input_path": "__notebook__.ipynb",
   "output_path": "__notebook__.ipynb",
   "parameters": {},
   "start_time": "2025-03-31T07:52:34.525772",
   "version": "2.6.0"
  }
 },
 "nbformat": 4,
 "nbformat_minor": 5
}
